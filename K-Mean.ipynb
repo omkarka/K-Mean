{
 "cells": [
  {
   "cell_type": "markdown",
   "metadata": {},
   "source": [
    "# K-Mean"
   ]
  },
  {
   "cell_type": "code",
   "execution_count": 1,
   "metadata": {},
   "outputs": [
    {
     "data": {
      "image/png": "[encoded data removed]",
      "text/plain": [
       "<Figure size 360x360 with 1 Axes>"
      ]
     },
     "metadata": {
      "needs_background": "light"
     },
     "output_type": "display_data"
    }
   ],
   "source": [
    "%matplotlib inline\n",
    "import pandas as pd \n",
    "import numpy as np\n",
    "import matplotlib.pyplot as plt\n",
    "\n",
    "df=pd.DataFrame({\n",
    "        'x':[1,2,3,4,5,12,23,34,54,23,32,32,54,65,56,57],\n",
    "        'y':[6,7,8,9,10,65,45,34,39,40,35,24,23,43,54,65]\n",
    "    })\n",
    "\n",
    "\n",
    "\n",
    "np.random.seed(200)\n",
    "k=5\n",
    "cent={\n",
    "      i+1:[np.random.randint(0,80), np.random.randint(0,80)]\n",
    "      for i in range(k)\n",
    "      }\n",
    "fig=plt.figure(figsize=(5,5))\n",
    "plt.scatter(df['x'], df['y'], color='k')\n",
    "colmap={1:'r', 2:'g',3:'b',4:'c',5:'grey'}\n",
    "for i in cent.keys():\n",
    "    plt.scatter(*cent[i],color=colmap[i])\n",
    "    \n",
    "plt.xlim(0,80)\n",
    "plt.ylim(0,80)\n",
    "plt.show()"
   ]
  },
  {
   "cell_type": "code",
   "execution_count": null,
   "metadata": {},
   "outputs": [],
   "source": []
  }
 ],
 "metadata": {
  "kernelspec": {
   "display_name": "Python 3",
   "language": "python",
   "name": "python3"
  },
  "language_info": {
   "codemirror_mode": {
    "name": "ipython",
    "version": 3
   },
   "file_extension": ".py",
   "mimetype": "text/x-python",
   "name": "python",
   "nbconvert_exporter": "python",
   "pygments_lexer": "ipython3",
   "version": "3.8.5"
  }
 },
 "nbformat": 4,
 "nbformat_minor": 4
}
